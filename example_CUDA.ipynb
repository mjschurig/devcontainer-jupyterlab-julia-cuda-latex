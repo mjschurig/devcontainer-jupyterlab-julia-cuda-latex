{
 "cells": [
  {
   "cell_type": "code",
   "execution_count": 1,
   "id": "a5f0201c-45d7-4d91-b866-1ceeec15ff82",
   "metadata": {},
   "outputs": [
    {
     "name": "stdout",
     "output_type": "stream",
     "text": [
      "CUDA runtime 12.6, artifact installation\n",
      "CUDA driver 12.6\n",
      "NVIDIA driver 561.9.0\n",
      "\n",
      "CUDA libraries: \n",
      "- CUBLAS: 12.6.4\n",
      "- CURAND: 10.3.7\n",
      "- CUFFT: 11.3.0\n",
      "- CUSOLVER: 11.7.1\n",
      "- CUSPARSE: 12.5.4\n",
      "- CUPTI: 2024.3.2 (API 24.0.0)\n",
      "- NVML: 12.0.0+560.35.3\n",
      "\n",
      "Julia packages: \n",
      "- CUDA: 5.5.2\n",
      "- CUDA_Driver_jll: 0.10.4+0\n",
      "- CUDA_Runtime_jll: 0.15.5+0\n",
      "\n",
      "Toolchain:\n",
      "- Julia: 1.11.2\n",
      "- LLVM: 16.0.6\n",
      "\n",
      "1 device:\n",
      "  0: NVIDIA GeForce RTX 4080 SUPER (sm_89, 13.563 GiB / 15.992 GiB available)\n"
     ]
    }
   ],
   "source": [
    "using CUDA\n",
    "CUDA.versioninfo()"
   ]
  }
 ],
 "metadata": {
  "kernelspec": {
   "display_name": "Julia 1.11.2",
   "language": "julia",
   "name": "julia-1.11"
  },
  "language_info": {
   "file_extension": ".jl",
   "mimetype": "application/julia",
   "name": "julia",
   "version": "1.11.2"
  }
 },
 "nbformat": 4,
 "nbformat_minor": 5
}
